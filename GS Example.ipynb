{
 "cells": [
  {
   "cell_type": "code",
   "execution_count": 1,
   "metadata": {},
   "outputs": [],
   "source": [
    "import numpy as np\n",
    "import pandas as pd\n",
    "from sklearn import datasets, ensemble\n",
    "from sklearn.model_selection import train_test_split\n",
    "from matplotlib import pyplot as plt\n",
    "from exploration import counterfactuals as cf\n",
    "\n",
    "PATH = ''"
   ]
  },
  {
   "cell_type": "markdown",
   "metadata": {},
   "source": [
    "# Example: Growing Spheres for 1 prediction"
   ]
  },
  {
   "cell_type": "markdown",
   "metadata": {},
   "source": [
    "### 2D Illustrative"
   ]
  },
  {
   "cell_type": "code",
   "execution_count": 2,
   "metadata": {},
   "outputs": [
    {
     "name": "stdout",
     "output_type": "stream",
     "text": [
      " ### Accuracy: 1.0\n"
     ]
    }
   ],
   "source": [
    "import numpy as np\n",
    "import pandas as pd\n",
    "from sklearn import datasets, ensemble, tree\n",
    "from sklearn.model_selection import train_test_split\n",
    "from sklearn.svm import SVC\n",
    "from matplotlib import pyplot as plt\n",
    "import seaborn as sns\n",
    "\n",
    "X,y = datasets.make_moons(n_samples = 200, shuffle=True, noise=0.05, random_state=0)\n",
    "X = (X.copy() - X.mean(axis=0))/X.std(axis=0)\n",
    "X_train, X_test, y_train, y_test = train_test_split(X, y, test_size=0.3, random_state=0)\n",
    "\n",
    "#clf = ensemble.RandomForestClassifier(n_estimators=200, max_depth=3)\n",
    "clf = SVC(gamma=1, probability=True)\n",
    "#clf = tree.DecisionTreeClassifier(max_depth=6)\n",
    "clf = clf.fit(X_train, y_train)\n",
    "print(' ### Accuracy:', sum(clf.predict(X_test) == y_test)/y_test.shape[0])\n",
    "\n",
    "def plot_classification_contour(X, clf, ax=[0,1]):\n",
    "    ## Inspired by scikit-learn documentation\n",
    "    h = .02  # step size in the mesh\n",
    "    cm = plt.cm.RdBu\n",
    "    x_min, x_max = X[:, ax[0]].min() - .5, X[:, ax[0]].max() + .5\n",
    "    y_min, y_max = X[:, ax[1]].min() - .5, X[:, ax[1]].max() + .5\n",
    "    xx, yy = np.meshgrid(np.arange(x_min, x_max, h), np.arange(y_min, y_max, h))\n",
    "    Z = clf.predict_proba(np.c_[xx.ravel(), yy.ravel()])[:, 1]\n",
    "    Z = Z.reshape(xx.shape)\n",
    "    #plt.sca(ax)\n",
    "    plt.contourf(xx, yy, Z, alpha=.5, cmap=cm)\n"
   ]
  },
  {
   "cell_type": "code",
   "execution_count": 5,
   "metadata": {
    "scrolled": true
   },
   "outputs": [
    {
     "name": "stdout",
     "output_type": "stream",
     "text": [
      "==================================================== 0\n",
      "0 ennemies found in initial sphere. Zooming in...\n",
      "Exploring...\n",
      "Final number of iterations:  35\n",
      "Final radius:  (0.6220000000000002, 0.6400000000000002)\n",
      "Final number of ennemies:  33\n",
      "Feature selection...\n",
      "Reduced 0 coordinates\n",
      "==================================================== 1\n",
      "0 ennemies found in initial sphere. Zooming in...\n",
      "Exploring...\n",
      "Final number of iterations:  39\n",
      "Final radius:  (0.6940000000000003, 0.7120000000000003)\n",
      "Final number of ennemies:  33\n",
      "Feature selection...\n",
      "Reduced 0 coordinates\n",
      "==================================================== 2\n",
      "0 ennemies found in initial sphere. Zooming in...\n",
      "Exploring...\n",
      "Final number of iterations:  45\n",
      "Final radius:  (0.8020000000000004, 0.8200000000000004)\n",
      "Final number of ennemies:  56\n",
      "Feature selection...\n",
      "Reduced 0 coordinates\n",
      "==================================================== 3\n",
      "0 ennemies found in initial sphere. Zooming in...\n",
      "Exploring...\n",
      "Final number of iterations:  32\n",
      "Final radius:  (0.5680000000000002, 0.5860000000000002)\n",
      "Final number of ennemies:  68\n",
      "Feature selection...\n",
      "Reduced 0 coordinates\n",
      "==================================================== 4\n",
      "0 ennemies found in initial sphere. Zooming in...\n",
      "Exploring...\n",
      "Final number of iterations:  27\n",
      "Final radius:  (0.47800000000000015, 0.49600000000000016)\n",
      "Final number of ennemies:  2\n",
      "Feature selection...\n",
      "Reduced 0 coordinates\n",
      "==================================================== 5\n",
      "0 ennemies found in initial sphere. Zooming in...\n",
      "Exploring...\n",
      "Final number of iterations:  28\n",
      "Final radius:  (0.4960000000000001, 0.5140000000000001)\n",
      "Final number of ennemies:  44\n",
      "Feature selection...\n",
      "Reduced 0 coordinates\n",
      "==================================================== 6\n",
      "0 ennemies found in initial sphere. Zooming in...\n",
      "Exploring...\n",
      "Final number of iterations:  31\n",
      "Final radius:  (0.5500000000000002, 0.5680000000000002)\n",
      "Final number of ennemies:  21\n",
      "Feature selection...\n",
      "Reduced 1 coordinates\n",
      "==================================================== 7\n",
      "0 ennemies found in initial sphere. Zooming in...\n",
      "Exploring...\n",
      "Final number of iterations:  33\n",
      "Final radius:  (0.5860000000000002, 0.6040000000000002)\n",
      "Final number of ennemies:  23\n",
      "Feature selection...\n",
      "Reduced 0 coordinates\n",
      "==================================================== 8\n",
      "0 ennemies found in initial sphere. Zooming in...\n",
      "Exploring...\n",
      "Final number of iterations:  30\n",
      "Final radius:  (0.5320000000000001, 0.5500000000000002)\n",
      "Final number of ennemies:  6\n",
      "Feature selection...\n",
      "Reduced 0 coordinates\n",
      "==================================================== 9\n",
      "0 ennemies found in initial sphere. Zooming in...\n",
      "Exploring...\n",
      "Final number of iterations:  25\n",
      "Final radius:  (0.4420000000000001, 0.46000000000000013)\n",
      "Final number of ennemies:  39\n",
      "Feature selection...\n",
      "Reduced 0 coordinates\n",
      "==================================================== 10\n",
      "0 ennemies found in initial sphere. Zooming in...\n",
      "Exploring...\n",
      "Final number of iterations:  21\n",
      "Final radius:  (0.37000000000000005, 0.38800000000000007)\n",
      "Final number of ennemies:  3\n",
      "Feature selection...\n",
      "Reduced 0 coordinates\n",
      "==================================================== 11\n",
      "0 ennemies found in initial sphere. Zooming in...\n",
      "Exploring...\n",
      "Final number of iterations:  42\n",
      "Final radius:  (0.7480000000000003, 0.7660000000000003)\n",
      "Final number of ennemies:  53\n",
      "Feature selection...\n",
      "Reduced 0 coordinates\n",
      "==================================================== 12\n",
      "0 ennemies found in initial sphere. Zooming in...\n",
      "Exploring...\n",
      "Final number of iterations:  35\n",
      "Final radius:  (0.6220000000000002, 0.6400000000000002)\n",
      "Final number of ennemies:  39\n",
      "Feature selection...\n",
      "Reduced 0 coordinates\n",
      "==================================================== 13\n",
      "0 ennemies found in initial sphere. Zooming in...\n",
      "Exploring...\n",
      "Final number of iterations:  42\n",
      "Final radius:  (0.7480000000000003, 0.7660000000000003)\n",
      "Final number of ennemies:  20\n",
      "Feature selection...\n",
      "Reduced 0 coordinates\n",
      "==================================================== 14\n",
      "0 ennemies found in initial sphere. Zooming in...\n",
      "Exploring...\n",
      "Final number of iterations:  29\n",
      "Final radius:  (0.5140000000000001, 0.5320000000000001)\n",
      "Final number of ennemies:  39\n",
      "Feature selection...\n",
      "Reduced 0 coordinates\n",
      "==================================================== 15\n",
      "0 ennemies found in initial sphere. Zooming in...\n",
      "Exploring...\n",
      "Final number of iterations:  44\n",
      "Final radius:  (0.7840000000000004, 0.8020000000000004)\n",
      "Final number of ennemies:  12\n",
      "Feature selection...\n",
      "Reduced 0 coordinates\n",
      "==================================================== 16\n",
      "0 ennemies found in initial sphere. Zooming in...\n",
      "Exploring...\n",
      "Final number of iterations:  40\n",
      "Final radius:  (0.7120000000000003, 0.7300000000000003)\n",
      "Final number of ennemies:  2\n",
      "Feature selection...\n",
      "Reduced 0 coordinates\n",
      "==================================================== 17\n",
      "0 ennemies found in initial sphere. Zooming in...\n",
      "Exploring...\n",
      "Final number of iterations:  32\n",
      "Final radius:  (0.5680000000000002, 0.5860000000000002)\n",
      "Final number of ennemies:  58\n",
      "Feature selection...\n",
      "Reduced 0 coordinates\n",
      "==================================================== 18\n",
      "0 ennemies found in initial sphere. Zooming in...\n",
      "Exploring...\n",
      "Final number of iterations:  45\n",
      "Final radius:  (0.8020000000000004, 0.8200000000000004)\n",
      "Final number of ennemies:  6\n",
      "Feature selection...\n",
      "Reduced 0 coordinates\n",
      "==================================================== 19\n",
      "0 ennemies found in initial sphere. Zooming in...\n",
      "Exploring...\n",
      "Final number of iterations:  44\n",
      "Final radius:  (0.7840000000000004, 0.8020000000000004)\n",
      "Final number of ennemies:  54\n",
      "Feature selection...\n",
      "Reduced 0 coordinates\n",
      "==================================================== 20\n",
      "0 ennemies found in initial sphere. Zooming in...\n",
      "Exploring...\n",
      "Final number of iterations:  34\n",
      "Final radius:  (0.6040000000000002, 0.6220000000000002)\n",
      "Final number of ennemies:  47\n",
      "Feature selection...\n",
      "Reduced 0 coordinates\n",
      "==================================================== 21\n",
      "0 ennemies found in initial sphere. Zooming in...\n",
      "Exploring...\n",
      "Final number of iterations:  29\n",
      "Final radius:  (0.5140000000000001, 0.5320000000000001)\n",
      "Final number of ennemies:  8\n",
      "Feature selection...\n",
      "Reduced 1 coordinates\n",
      "==================================================== 22\n",
      "0 ennemies found in initial sphere. Zooming in...\n",
      "Exploring...\n",
      "Final number of iterations:  45\n",
      "Final radius:  (0.8020000000000004, 0.8200000000000004)\n",
      "Final number of ennemies:  31\n",
      "Feature selection...\n",
      "Reduced 0 coordinates\n",
      "==================================================== 23\n",
      "0 ennemies found in initial sphere. Zooming in...\n",
      "Exploring...\n",
      "Final number of iterations:  23\n",
      "Final radius:  (0.4060000000000001, 0.4240000000000001)\n",
      "Final number of ennemies:  10\n",
      "Feature selection...\n",
      "Reduced 0 coordinates\n",
      "==================================================== 24\n",
      "0 ennemies found in initial sphere. Zooming in...\n",
      "Exploring...\n",
      "Final number of iterations:  32\n",
      "Final radius:  (0.5680000000000002, 0.5860000000000002)\n",
      "Final number of ennemies:  16\n",
      "Feature selection...\n",
      "Reduced 0 coordinates\n",
      "==================================================== 25\n",
      "0 ennemies found in initial sphere. Zooming in...\n",
      "Exploring...\n",
      "Final number of iterations:  29\n",
      "Final radius:  (0.5140000000000001, 0.5320000000000001)\n",
      "Final number of ennemies:  52\n",
      "Feature selection...\n",
      "Reduced 0 coordinates\n",
      "==================================================== 26\n",
      "0 ennemies found in initial sphere. Zooming in...\n",
      "Exploring...\n",
      "Final number of iterations:  29\n",
      "Final radius:  (0.5140000000000001, 0.5320000000000001)\n",
      "Final number of ennemies:  68\n",
      "Feature selection...\n",
      "Reduced 0 coordinates\n",
      "==================================================== 27\n",
      "0 ennemies found in initial sphere. Zooming in...\n",
      "Exploring...\n",
      "Final number of iterations:  44\n",
      "Final radius:  (0.7840000000000004, 0.8020000000000004)\n",
      "Final number of ennemies:  15\n",
      "Feature selection...\n",
      "Reduced 0 coordinates\n",
      "==================================================== 28\n",
      "0 ennemies found in initial sphere. Zooming in...\n",
      "Exploring...\n",
      "Final number of iterations:  32\n",
      "Final radius:  (0.5680000000000002, 0.5860000000000002)\n",
      "Final number of ennemies:  25\n",
      "Feature selection...\n",
      "Reduced 0 coordinates\n",
      "==================================================== 29\n",
      "0 ennemies found in initial sphere. Zooming in...\n",
      "Exploring...\n"
     ]
    },
    {
     "name": "stdout",
     "output_type": "stream",
     "text": [
      "Final number of iterations:  47\n",
      "Final radius:  (0.8380000000000004, 0.8560000000000004)\n",
      "Final number of ennemies:  4\n",
      "Feature selection...\n",
      "Reduced 0 coordinates\n",
      "==================================================== 30\n",
      "0 ennemies found in initial sphere. Zooming in...\n",
      "Exploring...\n",
      "Final number of iterations:  33\n",
      "Final radius:  (0.5860000000000002, 0.6040000000000002)\n",
      "Final number of ennemies:  47\n",
      "Feature selection...\n",
      "Reduced 0 coordinates\n",
      "==================================================== 31\n",
      "0 ennemies found in initial sphere. Zooming in...\n",
      "Exploring...\n",
      "Final number of iterations:  27\n",
      "Final radius:  (0.47800000000000015, 0.49600000000000016)\n",
      "Final number of ennemies:  2\n",
      "Feature selection...\n",
      "Reduced 0 coordinates\n"
     ]
    },
    {
     "data": {
      "image/png": "[encoded data removed]",
      "text/plain": [
       "<Figure size 432x288 with 1 Axes>"
      ]
     },
     "metadata": {
      "needs_background": "light"
     },
     "output_type": "display_data"
    }
   ],
   "source": [
    "cf_list = []\n",
    "cnt = 0\n",
    "X_test_class0 = X_test[np.where(y_test == 0)]\n",
    "for obs in X_test_class0:\n",
    "    print('====================================================', cnt)\n",
    "    CF = cf.CounterfactualExplanation(obs, clf.predict, method='GS')\n",
    "    CF.fit(n_in_layer=2000, first_radius=0.1, dicrease_radius=10, sparse=True, verbose=True)\n",
    "    cf_list.append(CF.enemy)\n",
    "    cnt += 1\n",
    "cf_list = np.array(cf_list) \n",
    "\n",
    "plot_classification_contour(X_test, clf)\n",
    "plt.scatter(X_test_class0[:, 0], X_test_class0[:, 1], marker='o', edgecolors='k', alpha=0.9, color='red')\n",
    "plt.scatter(cf_list[:, 0], cf_list[:, 1], marker='o', edgecolors='k', alpha=0.9, color='green')\n",
    "plt.title('Test instances (red) and their generated counterfactuals (green)')\n",
    "plt.tight_layout()"
   ]
  },
  {
   "cell_type": "markdown",
   "metadata": {},
   "source": [
    "# Distance and sparsity over datasets"
   ]
  },
  {
   "cell_type": "code",
   "execution_count": 6,
   "metadata": {},
   "outputs": [
    {
     "name": "stdout",
     "output_type": "stream",
     "text": [
      "Index([' n_tokens_title', ' n_tokens_content', ' n_unique_tokens',\n",
      "       ' n_non_stop_words', ' n_non_stop_unique_tokens', ' num_hrefs',\n",
      "       ' num_self_hrefs', ' num_imgs', ' num_videos', ' average_token_length',\n",
      "       ' num_keywords', ' data_channel_is_lifestyle',\n",
      "       ' data_channel_is_entertainment', ' data_channel_is_bus',\n",
      "       ' data_channel_is_socmed', ' data_channel_is_tech',\n",
      "       ' data_channel_is_world', ' kw_min_min', ' kw_max_min', ' kw_avg_min',\n",
      "       ' kw_min_max', ' kw_max_max', ' kw_avg_max', ' kw_min_avg',\n",
      "       ' kw_max_avg', ' kw_avg_avg', ' self_reference_min_shares',\n",
      "       ' self_reference_max_shares', ' self_reference_avg_sharess',\n",
      "       ' weekday_is_monday', ' weekday_is_tuesday', ' weekday_is_wednesday',\n",
      "       ' weekday_is_thursday', ' weekday_is_friday', ' weekday_is_saturday',\n",
      "       ' weekday_is_sunday', ' is_weekend', ' LDA_00', ' LDA_01', ' LDA_02',\n",
      "       ' LDA_03', ' LDA_04', ' global_subjectivity',\n",
      "       ' global_sentiment_polarity', ' global_rate_positive_words',\n",
      "       ' global_rate_negative_words', ' rate_positive_words',\n",
      "       ' rate_negative_words', ' avg_positive_polarity',\n",
      "       ' min_positive_polarity', ' max_positive_polarity',\n",
      "       ' avg_negative_polarity', ' min_negative_polarity',\n",
      "       ' max_negative_polarity', ' title_subjectivity',\n",
      "       ' title_sentiment_polarity', ' abs_title_subjectivity',\n",
      "       ' abs_title_sentiment_polarity'],\n",
      "      dtype='object')\n",
      "sùodhmofvmdwoih X_test shape: (1000, 58)\n",
      " ### Accuracy: 0.639\n"
     ]
    }
   ],
   "source": [
    "import numpy as np\n",
    "import pandas as pd\n",
    "from sklearn import datasets, ensemble, tree\n",
    "from sklearn.model_selection import train_test_split\n",
    "from sklearn.svm import SVC\n",
    "from matplotlib import pyplot as plt\n",
    "import seaborn as sns\n",
    "import load_dataset\n",
    "import xgboost as xgb\n",
    "\n",
    "#X,y = datasets.make_moons(n_samples = 200, shuffle=True, noise=0.05, random_state=0)\n",
    "\n",
    "'''BOSTON'''\n",
    "#X, y = datasets.load_boston(return_X_y=True)\n",
    "#y = (y >= 21) + 0\n",
    "\n",
    "'''GERMAN'''\n",
    "#X, y = load_dataset.main('credit', n_obs=10000)\n",
    "\n",
    "'''ONLINE NEWS POPULARITY'''\n",
    "#X, y = load_dataset.main('news', n_obs=10000)\n",
    "df = pd.read_csv('datasets/newspopularity.csv', header=0, nrows=10000)\n",
    "y = np.array(df.iloc[:, -1].apply(pd.to_numeric))\n",
    "y = np.array([int(x>=1400) for x in y])\n",
    "print(df.iloc[:,2:-1].columns)\n",
    "X = np.array(df.iloc[:, 2:-1].apply(pd.to_numeric))\n",
    "#essayer d'enlever valeurs extremes\n",
    "\n",
    "\n",
    "'''### RECIDIVISM\n",
    "df = pd.read_csv('/home/laugel/Documents/thesis/code/highgarden/highgarden/datasets/recidivism.csv', sep=',', header=0)\n",
    "numerics = ['int16', 'int32', 'int64', 'float16', 'float32', 'float64']\n",
    "#df = df[df['score_text'] != 'Low']\n",
    "df = df[(df['days_b_screening_arrest'] >= -30) & (df['days_b_screening_arrest']<=30)]\n",
    "df = df[df['is_recid'] != -1]\n",
    "#y = df.score_text.astype('category').cat.codes\n",
    "y = (df.score_text != 'Low').astype('int')\n",
    "del df['score_text']\n",
    "del df['decile_score']\n",
    "del df['violent_recid']\n",
    "del df['r_days_from_arrest']\n",
    "del df['id']\n",
    "del df['decile_score.1']\n",
    "del df['v_decile_score']\n",
    "del df['start']\n",
    "del df['end']\n",
    "X = df.select_dtypes(include=numerics)\n",
    "X['race'] = df['race']\n",
    "X['sex'] = df['sex']\n",
    "X = pd.get_dummies(X)\n",
    "del X['race_Caucasian']\n",
    "del X['sex_Male']\n",
    "vars_ = X.columns\n",
    "print(X.head())\n",
    "X = np.array(X)\n",
    "'''\n",
    "\n",
    "X = (X.copy() - X.mean(axis=0))/X.std(axis=0)\n",
    "X_train, X_test, y_train, y_test = train_test_split(X, y, test_size=0.1, random_state=0)\n",
    "\n",
    "print('sùodhmofvmdwoih X_test shape:', X_test.shape)\n",
    "\n",
    "\n",
    "\n",
    "#clf = ensemble.RandomForestClassifier(n_estimators=200, max_depth=None, n_jobs=-1)\n",
    "clf = ensemble.AdaBoostClassifier(n_estimators=200, learning_rate=1.0)\n",
    "#clf = SVC(gamma='auto', probability=True)\n",
    "clf = clf.fit(X_train, y_train)\n",
    "print(' ### Accuracy:', sum(clf.predict(X_test) == y_test)/y_test.shape[0])\n",
    "\n",
    "def plot_classification_contour(X, clf, ax=[0,1]):\n",
    "    ## Inspired by scikit-learn documentation\n",
    "    h = .02  # step size in the mesh\n",
    "    cm = plt.cm.RdBu\n",
    "    x_min, x_max = X[:, ax[0]].min() - .5, X[:, ax[0]].max() + .5\n",
    "    y_min, y_max = X[:, ax[1]].min() - .5, X[:, ax[1]].max() + .5\n",
    "    xx, yy = np.meshgrid(np.arange(x_min, x_max, h), np.arange(y_min, y_max, h))\n",
    "    Z = clf.predict_proba(np.c_[xx.ravel(), yy.ravel()])[:, 1]\n",
    "    Z = Z.reshape(xx.shape)\n",
    "    #plt.sca(ax)\n",
    "    plt.contourf(xx, yy, Z, alpha=.5, cmap=cm)\n",
    "\n",
    "def get_CF_distances(obs, n_in_layer=10000, first_radius=0.1, dicrease_radius=10, sparse=True):\n",
    "    CF = cf.CounterfactualExplanation(obs, clf.predict, method='GS')\n",
    "    CF.fit(n_in_layer=n_in_layer, first_radius=first_radius, dicrease_radius=dicrease_radius, sparse=sparse,\n",
    "           verbose=False)\n",
    "    out = CF.distances()\n",
    "    l2, l0 = out['euclidean'], out['sparsity']\n",
    "    return l2, l0\n",
    "\n",
    "def get_CF(obs, n_in_layer=2000, first_radius=0.1, dicrease_radius=10, sparse=True):\n",
    "    CF = cf.CounterfactualExplanation(obs, clf.predict, method='GS')\n",
    "    CF.fit(n_in_layer=n_in_layer, first_radius=first_radius, dicrease_radius=dicrease_radius, sparse=sparse,\n",
    "           verbose=False)\n",
    "    e_tilde = CF.e_star\n",
    "    e_f = CF.enemy\n",
    "    return obs, e_tilde, e_f\n",
    "    \n",
    "    \n",
    "def iterate_gs_dataset(n_in_layer=2000, first_radius=0.1, dicrease_radius=10, sparse=True):\n",
    "    l2_list, l0_list = [], []\n",
    "    cnt = 0\n",
    "    for obs in X_test[:10, :]:\n",
    "        print('====================================================', cnt)\n",
    "        l2, l0 = get_CF(obs, n_in_layer=n_in_layer, \n",
    "                               first_radius=first_radius, \n",
    "                               dicrease_radius=dicrease_radius, \n",
    "                               sparse=sparse)\n",
    "        l2_list.append(l2)\n",
    "        l0_list.append(l0)\n",
    "        cnt += 1\n",
    "    return l2_list, l0_list    "
   ]
  },
  {
   "cell_type": "code",
   "execution_count": 110,
   "metadata": {
    "scrolled": true
   },
   "outputs": [
    {
     "name": "stdout",
     "output_type": "stream",
     "text": [
      "http://mashable.com/2013/07/14/twitter-george-zimmerman/\n",
      "[1]\n",
      "2\n",
      "CPU times: user 2.34 s, sys: 3.99 ms, total: 2.34 s\n",
      "Wall time: 2.34 s\n"
     ]
    }
   ],
   "source": [
    "%%time\n",
    "idx = 9907\n",
    "#idx = 9900 with adaboost 3 mais gros deplacemet\n",
    "#idx 2 pareil avec 2\n",
    "# idx 9403 interessant 3\n",
    "# 9907\n",
    "obs_to_interprete = X[idx]\n",
    "print(df.iloc[idx, :]['url'])\n",
    "print(clf.predict(X[idx].reshape(1, -1)))\n",
    "def get_closest_enemy(obs):\n",
    "    enemies = X_test[np.where((y_test != clf.predict(obs.reshape(1,-1))) & (y_test == clf.predict(X_test)))]\n",
    "    idx, dist = metrics.pairwise_distances_argmin_min(obs.reshape(1,-1), enemies)\n",
    "    return dist\n",
    "\n",
    "from sklearn import metrics\n",
    "x, e_tilde, e_f =get_CF(obs_to_interprete, n_in_layer=10000, first_radius=0.1, dicrease_radius=100)\n",
    "\n",
    "print((e_f - x != 0).sum())"
   ]
  },
  {
   "cell_type": "code",
   "execution_count": 111,
   "metadata": {
    "scrolled": true
   },
   "outputs": [
    {
     "name": "stdout",
     "output_type": "stream",
     "text": [
      "variable:   self_reference_avg_sharess\n",
      "initial value:\n",
      "3200.0\n",
      "move:\n",
      "-1065.2374839405682\n",
      "variable:   avg_negative_polarity\n",
      "initial value:\n",
      "-0.483333333333\n",
      "move:\n",
      "0.0013660548258429702\n",
      "===================\n",
      "[(' self_reference_avg_sharess', -0.04935161180566233), (' avg_negative_polarity', 0.010783920946001002), (' n_tokens_title', 0.0), (' n_tokens_content', 0.0), (' n_unique_tokens', 0.0), (' n_non_stop_words', 0.0), (' n_non_stop_unique_tokens', 0.0), (' num_hrefs', 0.0), (' num_self_hrefs', 0.0), (' num_imgs', 0.0), (' num_videos', 0.0), (' average_token_length', 0.0), (' num_keywords', 0.0), (' data_channel_is_lifestyle', 0.0), (' data_channel_is_entertainment', 0.0), (' data_channel_is_bus', 0.0), (' data_channel_is_socmed', 0.0), (' data_channel_is_tech', 0.0), (' data_channel_is_world', 0.0), (' kw_min_min', 0.0), (' kw_max_min', 0.0), (' kw_avg_min', 0.0), (' kw_min_max', 0.0), (' kw_max_max', 0.0), (' kw_avg_max', 0.0), (' kw_min_avg', 0.0), (' kw_max_avg', 0.0), (' kw_avg_avg', 0.0), (' self_reference_min_shares', 0.0), (' self_reference_max_shares', 0.0), (' weekday_is_monday', 0.0), (' weekday_is_tuesday', 0.0), (' weekday_is_wednesday', 0.0), (' weekday_is_thursday', 0.0), (' weekday_is_friday', 0.0), (' weekday_is_saturday', 0.0), (' weekday_is_sunday', 0.0), (' is_weekend', 0.0), (' LDA_00', 0.0), (' LDA_01', 0.0), (' LDA_02', 0.0), (' LDA_03', 0.0), (' LDA_04', 0.0), (' global_subjectivity', 0.0), (' global_sentiment_polarity', 0.0), (' global_rate_positive_words', 0.0), (' global_rate_negative_words', 0.0), (' rate_positive_words', 0.0), (' rate_negative_words', 0.0), (' avg_positive_polarity', 0.0), (' min_positive_polarity', 0.0), (' max_positive_polarity', 0.0), (' min_negative_polarity', 0.0), (' max_negative_polarity', 0.0), (' title_subjectivity', 0.0), (' title_sentiment_polarity', 0.0), (' abs_title_subjectivity', 0.0), (' abs_title_sentiment_polarity', 0.0)]\n"
     ]
    }
   ],
   "source": [
    "#vars_ = ['crim', 'zn', 'indus','chas', 'nox', 'rm', 'age', 'dis', 'rad', 'tax', 'ptratio', 'black', 'lstat']\n",
    "vars_ = [' n_tokens_title', ' n_tokens_content', ' n_unique_tokens',\n",
    "       ' n_non_stop_words', ' n_non_stop_unique_tokens', ' num_hrefs',\n",
    "       ' num_self_hrefs', ' num_imgs', ' num_videos', ' average_token_length',\n",
    "       ' num_keywords', ' data_channel_is_lifestyle',\n",
    "       ' data_channel_is_entertainment', ' data_channel_is_bus',\n",
    "       ' data_channel_is_socmed', ' data_channel_is_tech',\n",
    "       ' data_channel_is_world', ' kw_min_min', ' kw_max_min', ' kw_avg_min',\n",
    "       ' kw_min_max', ' kw_max_max', ' kw_avg_max', ' kw_min_avg',\n",
    "       ' kw_max_avg', ' kw_avg_avg', ' self_reference_min_shares',\n",
    "       ' self_reference_max_shares', ' self_reference_avg_sharess',\n",
    "       ' weekday_is_monday', ' weekday_is_tuesday', ' weekday_is_wednesday',\n",
    "       ' weekday_is_thursday', ' weekday_is_friday', ' weekday_is_saturday',\n",
    "       ' weekday_is_sunday', ' is_weekend', ' LDA_00', ' LDA_01', ' LDA_02',\n",
    "       ' LDA_03', ' LDA_04', ' global_subjectivity',\n",
    "       ' global_sentiment_polarity', ' global_rate_positive_words',\n",
    "       ' global_rate_negative_words', ' rate_positive_words',\n",
    "       ' rate_negative_words', ' avg_positive_polarity',\n",
    "       ' min_positive_polarity', ' max_positive_polarity',\n",
    "       ' avg_negative_polarity', ' min_negative_polarity',\n",
    "       ' max_negative_polarity', ' title_subjectivity',\n",
    "       ' title_sentiment_polarity', ' abs_title_subjectivity',\n",
    "       ' abs_title_sentiment_polarity']\n",
    "\n",
    "for k in list(zip(vars_, e_f - x)):\n",
    "    \n",
    "    if k[1]!=0:\n",
    "        print('variable: ', k[0])\n",
    "        print('initial value:')\n",
    "        print(df.iloc[idx, :][k[0]])\n",
    "        print('move:')\n",
    "        print(k[1] * df[k[0]].std())# + df[k[0]].mean())\n",
    "print('===================')\n",
    "print(sorted(list(zip(vars_, e_f - x)), key=lambda x: -abs(x[1])))\n",
    "        "
   ]
  },
  {
   "cell_type": "code",
   "execution_count": 83,
   "metadata": {},
   "outputs": [
    {
     "data": {
      "text/plain": [
       "array([0])"
      ]
     },
     "execution_count": 83,
     "metadata": {},
     "output_type": "execute_result"
    }
   ],
   "source": [
    "clf.predict(X[idx].reshape(1, -1))"
   ]
  },
  {
   "cell_type": "code",
   "execution_count": 5,
   "metadata": {
    "scrolled": true
   },
   "outputs": [
    {
     "data": {
      "text/plain": [
       "'%%time\\nfrom joblib import Parallel, delayed\\ncf_xtest = Parallel(n_jobs=8)(delayed(get_CF)(obs, n_in_layer=5000, first_radius=0.1, dicrease_radius=100, sparse=True) for obs in X_test[:10])\\ncf_xtest = np.array(cf_xtest)\\n\\n'"
      ]
     },
     "execution_count": 5,
     "metadata": {},
     "output_type": "execute_result"
    }
   ],
   "source": [
    "'''%%time\n",
    "from joblib import Parallel, delayed\n",
    "cf_xtest = Parallel(n_jobs=8)(delayed(get_CF)(obs, n_in_layer=5000, first_radius=0.1, dicrease_radius=100, sparse=True) for obs in X_test[:10])\n",
    "cf_xtest = np.array(cf_xtest)\n",
    "\n",
    "'''"
   ]
  },
  {
   "cell_type": "code",
   "execution_count": 34,
   "metadata": {},
   "outputs": [
    {
     "data": {
      "text/plain": [
       "[<matplotlib.lines.Line2D at 0x7f918928f278>]"
      ]
     },
     "execution_count": 34,
     "metadata": {},
     "output_type": "execute_result"
    },
    {
     "data": {
      "image/png": "[encoded data removed]",
      "text/plain": [
       "<Figure size 432x288 with 1 Axes>"
      ]
     },
     "metadata": {
      "needs_background": "light"
     },
     "output_type": "display_data"
    }
   ],
   "source": [
    "from matplotlib import pyplot as plt\n",
    "d = 10\n",
    "def suite(k):\n",
    "    while k >0:\n",
    "        return (1.0 + 1.0/k)**d * suite(k -1)\n",
    "    else:\n",
    "        return 10\n",
    "\n",
    "plt.plot([suite(k) for k in range(100)])\n",
    "plt.plot([(((1 + k)))**(d+0.5) for k in range(0,100)])\n",
    "\n"
   ]
  },
  {
   "cell_type": "markdown",
   "metadata": {},
   "source": [
    "# Out of distribution CF"
   ]
  },
  {
   "cell_type": "code",
   "execution_count": 64,
   "metadata": {},
   "outputs": [
    {
     "name": "stderr",
     "output_type": "stream",
     "text": [
      "/usr/lib/python3/dist-packages/sklearn/model_selection/_split.py:2179: FutureWarning: From version 0.21, test_size will always complement train_size unless both are specified.\n",
      "  FutureWarning)\n"
     ]
    },
    {
     "name": "stdout",
     "output_type": "stream",
     "text": [
      "(120, 2) (30, 2)\n"
     ]
    },
    {
     "data": {
      "image/png": "[encoded data removed]",
      "text/plain": [
       "<Figure size 432x288 with 1 Axes>"
      ]
     },
     "metadata": {
      "needs_background": "light"
     },
     "output_type": "display_data"
    }
   ],
   "source": [
    "import numpy as np\n",
    "import pandas as pd\n",
    "from sklearn import datasets, ensemble\n",
    "from sklearn.model_selection import train_test_split\n",
    "from matplotlib import pyplot as plt\n",
    "from exploration import counterfactuals as cf\n",
    "from sklearn.svm import SVC\n",
    "\n",
    "PATH = '/home/laugel/Documents/thesis/articles/manuscrit/experiments/figures/'\n",
    "\n",
    "\n",
    "def make_meshgrid(x, y, h=.02):\n",
    "    \"\"\"Create a mesh of points to plot in\n",
    "\n",
    "    Parameters\n",
    "    ----------\n",
    "    x: data to base x-axis meshgrid on\n",
    "    y: data to base y-axis meshgrid on\n",
    "    h: stepsize for meshgrid, optional\n",
    "\n",
    "    Returns\n",
    "    -------\n",
    "    xx, yy : ndarray\n",
    "    \"\"\"\n",
    "    x_min, x_max = x.min() - 1, x.max() + 1\n",
    "    y_min, y_max = y.min() - 1, y.max() + 1\n",
    "    xx, yy = np.meshgrid(np.arange(x_min, x_max, h),\n",
    "                         np.arange(y_min, y_max, h))\n",
    "    return xx, yy\n",
    "\n",
    "def plot_contours(ax, clf, xx, yy, **params):\n",
    "    \"\"\"Plot the decision boundaries for a classifier.\n",
    "\n",
    "    Parameters\n",
    "    ----------\n",
    "    ax: matplotlib axes object\n",
    "    clf: a classifier\n",
    "    xx: meshgrid ndarray\n",
    "    yy: meshgrid ndarray\n",
    "    params: dictionary of params to pass to contourf, optional\n",
    "    \"\"\"\n",
    "    Z = clf.predict(np.c_[xx.ravel(), yy.ravel()])\n",
    "    Z = Z.reshape(xx.shape)\n",
    "    out = ax.contourf(xx, yy, Z, **params)\n",
    "    return out\n",
    "\n",
    "def get_CF(obs, n_in_layer=2000, first_radius=0.1, dicrease_radius=10, sparse=True, target_class=None):\n",
    "    CF = cf.CounterfactualExplanation(obs, clf.predict, method='GS', target_class=target_class)\n",
    "    CF.fit(n_in_layer=n_in_layer, first_radius=first_radius, dicrease_radius=dicrease_radius, sparse=sparse,\n",
    "           verbose=False)\n",
    "    print('target class', CF.target_class)\n",
    "    e_tilde = CF.e_star\n",
    "    e_f = CF.enemy\n",
    "    return obs, e_tilde, e_f\n",
    "    \n",
    "\n",
    "\n",
    "\n",
    "# import some data to play with\n",
    "iris = datasets.load_iris()\n",
    "# Take the first two features. We could avoid this by using a two-dim dataset\n",
    "X = iris.data[:, :2]\n",
    "y = iris.target\n",
    "X = (X.copy() - X.mean(axis=0))/X.std(axis=0)\n",
    "\n",
    "X_train, X_test, y_train, y_test = train_test_split(X, y, train_size=0.8, random_state=0)\n",
    "print(X_train.shape, X_test.shape)\n",
    "clf = SVC(C=1.0, gamma=1.0, probability=True).fit(X_train, y_train)\n",
    "\n",
    "\n",
    "fig, ax = plt.subplots()\n",
    "\n",
    "X0, X1 = X_train[:, 0], X_train[:, 1]\n",
    "xx, yy = make_meshgrid(X0, X1)\n",
    "plot_contours(ax, clf, xx, yy,\n",
    "                  cmap=plt.cm.coolwarm, alpha=0.6)\n",
    "ax.scatter(X0, X1, c=y_train, cmap=plt.cm.coolwarm, s=20, edgecolors='k')\n",
    "plt.show()\n",
    "\n"
   ]
  },
  {
   "cell_type": "code",
   "execution_count": 62,
   "metadata": {
    "scrolled": true
   },
   "outputs": [
    {
     "name": "stdout",
     "output_type": "stream",
     "text": [
      "target class 2\n"
     ]
    }
   ],
   "source": [
    "obs_to_interprete = np.array([-1.1, 2.1])# X_test[2]\n",
    "_, _, CF = get_CF(obs_to_interprete, n_in_layer=1000, first_radius=0.1, dicrease_radius=100.0, target_class=2)\n"
   ]
  },
  {
   "cell_type": "code",
   "execution_count": 65,
   "metadata": {},
   "outputs": [
    {
     "data": {
      "image/png": "[encoded data removed]",
      "text/plain": [
       "<Figure size 432x288 with 1 Axes>"
      ]
     },
     "metadata": {
      "needs_background": "light"
     },
     "output_type": "display_data"
    }
   ],
   "source": [
    "\n",
    "AX1, AX2 = 0, 1\n",
    "fig, ax = plt.subplots()\n",
    "\n",
    "X0, X1 = X_train[:, 0], X_train[:, 1]\n",
    "xx, yy = make_meshgrid(X0, X1)\n",
    "\n",
    "plot_contours(ax, clf, xx, yy,\n",
    "                  cmap=plt.cm.coolwarm, alpha=0.6)\n",
    "#plt.scatter(X_train[:, AX1], X_train[:, AX2], color=[['red', 'blue', 'green'][x] for x in y_train], alpha=0.3, marker='+')\n",
    "ax.scatter(X0, X1, c=y_train, cmap=plt.cm.coolwarm, s=20, edgecolors='k')\n",
    "\n",
    "ax.scatter(obs_to_interprete[AX1], obs_to_interprete[AX2], color='yellow', s=100, edgecolors='k')\n",
    "ax.scatter(CF[AX1], CF[AX2], color='green', s=70, edgecolors='k')\n",
    "fig.tight_layout()\n",
    "plt.savefig(PATH + 'discussion_iris.pdf', bbox_inches='tight')\n",
    "plt.show()"
   ]
  }
 ],
 "metadata": {
  "kernelspec": {
   "display_name": "Python 3",
   "language": "python",
   "name": "python3"
  },
  "language_info": {
   "codemirror_mode": {
    "name": "ipython",
    "version": 3
   },
   "file_extension": ".py",
   "mimetype": "text/x-python",
   "name": "python",
   "nbconvert_exporter": "python",
   "pygments_lexer": "ipython3",
   "version": "3.7.6"
  }
 },
 "nbformat": 4,
 "nbformat_minor": 2
}
